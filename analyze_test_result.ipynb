{
 "cells": [
  {
   "cell_type": "code",
   "execution_count": null,
   "metadata": {},
   "outputs": [],
   "source": [
    "import os.path as path\n",
    "import numpy as np\n",
    "import pandas as pd\n",
    "import script.utility as util"
   ]
  },
  {
   "cell_type": "code",
   "execution_count": null,
   "metadata": {},
   "outputs": [],
   "source": [
    "result_dir = \"/workspace/result/foo/\"\n",
    "\n",
    "outputs, param = util.load_test_result(result_dir)"
   ]
  },
  {
   "cell_type": "markdown",
   "metadata": {},
   "source": [
    "visualize model outputs"
   ]
  },
  {
   "cell_type": "code",
   "execution_count": null,
   "metadata": {},
   "outputs": [],
   "source": [
    "util.plot_outputs(outputs)"
   ]
  },
  {
   "cell_type": "markdown",
   "metadata": {},
   "source": [
    "derive position"
   ]
  },
  {
   "cell_type": "code",
   "execution_count": null,
   "metadata": {},
   "outputs": [],
   "source": [
    "split_file = \"/workspace/config/split.yaml\"\n",
    "\n",
    "log_files = util.load_param(split_file)[\"test\"]\n",
    "pad = 400 // 2 - 1\n",
    "for i, (ts, estim, truth) in enumerate(outputs):\n",
    "    true_pos = util.load_pos(log_files[i])[pad:-pad]\n",
    "    true_spd = util.calc_spd(true_pos, 10)[:-1]\n",
    "    estim_pos = util.derive_pos_with_every_win_heading(np.arctan2(estim[:, 1], estim[:, 0]), true_spd, 1, true_pos[0])\n",
    "\n",
    "    util.vis_tj(estim_pos, true_pos)"
   ]
  }
 ],
 "metadata": {
  "kernelspec": {
   "display_name": "heading-env",
   "language": "python",
   "name": "python3"
  },
  "language_info": {
   "codemirror_mode": {
    "name": "ipython",
    "version": 3
   },
   "file_extension": ".py",
   "mimetype": "text/x-python",
   "name": "python",
   "nbconvert_exporter": "python",
   "pygments_lexer": "ipython3",
   "version": "3.10.12"
  },
  "orig_nbformat": 4
 },
 "nbformat": 4,
 "nbformat_minor": 2
}
